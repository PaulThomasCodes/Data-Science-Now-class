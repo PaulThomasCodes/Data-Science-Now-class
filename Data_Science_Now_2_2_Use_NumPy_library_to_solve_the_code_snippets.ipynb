{
  "nbformat": 4,
  "nbformat_minor": 0,
  "metadata": {
    "colab": {
      "provenance": []
    },
    "kernelspec": {
      "name": "python3",
      "display_name": "Python 3"
    },
    "language_info": {
      "name": "python"
    }
  },
  "cells": [
    {
      "cell_type": "markdown",
      "source": [
        "**Write a NumPy program to reshape this 1D array [1 2 3 4 5 6] into a 2D array with 2 rows.**"
      ],
      "metadata": {
        "id": "f0wDPrmLCfqP"
      }
    },
    {
      "cell_type": "code",
      "execution_count": 1,
      "metadata": {
        "colab": {
          "base_uri": "https://localhost:8080/"
        },
        "id": "-T4Dx1Rm9_mf",
        "outputId": "b122a00b-e823-4e6d-92b6-93a4c98556eb"
      },
      "outputs": [
        {
          "output_type": "stream",
          "name": "stdout",
          "text": [
            "[[1 2 3]\n",
            " [4 5 6]]\n"
          ]
        }
      ],
      "source": [
        "import numpy as np\n",
        "\n",
        "arr = np.array([1, 2, 3, 4, 5, 6])\n",
        "arr.resize((2, 3))\n",
        "\n",
        "print(arr)"
      ]
    },
    {
      "cell_type": "markdown",
      "source": [
        "**Write a NumPy program to perform matrix multiplication between a 3x3 matrix and a 3x2 matrix**"
      ],
      "metadata": {
        "id": "lGAh8KjYD6N0"
      }
    },
    {
      "cell_type": "code",
      "source": [
        "import numpy as np\n",
        "\n",
        "# Define the matrices\n",
        "matrix1 = np.array([[1, 2, 3], [4, 5, 6], [7, 8, 9]])\n",
        "matrix2 = np.array([[9, 8], [7, 6], [5, 4]])\n",
        "\n",
        "# matrix multiplication\n",
        "result = np.dot(matrix1, matrix2)\n",
        "\n",
        "# Print the matrix result\n",
        "print(result)"
      ],
      "metadata": {
        "colab": {
          "base_uri": "https://localhost:8080/"
        },
        "id": "Y7dmC7JZD_T_",
        "outputId": "daf3f1af-88bb-40cb-f0a1-f7ed42ab1cd8"
      },
      "execution_count": 5,
      "outputs": [
        {
          "output_type": "stream",
          "name": "stdout",
          "text": [
            "[[ 38  32]\n",
            " [101  86]\n",
            " [164 140]]\n"
          ]
        }
      ]
    },
    {
      "cell_type": "markdown",
      "source": [
        "**Write a NumPy program to find the most frequent value and the number of times it occured in the array**\n",
        "\n",
        "[\n",
        "\n",
        "[1, 2, 3, 2, 1],\n",
        "[4, 2, 5, 2, 6],\n",
        "[2, 1, 2, 3, 2],\n",
        "[7, 2, 8, 2, 9]  \n",
        "]"
      ],
      "metadata": {
        "id": "LMbTixFPE3BB"
      }
    },
    {
      "cell_type": "code",
      "source": [
        "import numpy as np  # Import the NumPy library\n",
        "\n",
        "# Define the array\n",
        "arr = np.array([[1, 2, 3, 2, 1], [4, 2, 5, 2, 6], [2, 1, 2, 3, 2], [7, 2, 8, 2, 9]])\n",
        "\n",
        "# Flatten the array into a 1D array\n",
        "flat_arr = arr.flatten()\n",
        "\n",
        "# Get unique values and their counts\n",
        "unique_vals, counts = np.unique(flat_arr, return_counts=True)\n",
        "\n",
        "# Find the index of the most frequent value\n",
        "most_frequent_index = np.argmax(counts)\n",
        "\n",
        "# Get the most frequent value using the index\n",
        "most_frequent_val = unique_vals[most_frequent_index]\n",
        "\n",
        "# Get the count of the most frequent value\n",
        "most_frequent_count = counts[most_frequent_index]\n",
        "\n",
        "\n",
        "print(\"Most frequent value:\", most_frequent_val)\n",
        "print(\"Number of times it occurred:\", most_frequent_count)"
      ],
      "metadata": {
        "colab": {
          "base_uri": "https://localhost:8080/"
        },
        "id": "XGwEb7cFFANC",
        "outputId": "9fa7d88a-411f-4402-81dd-1842b4e3a94b"
      },
      "execution_count": 8,
      "outputs": [
        {
          "output_type": "stream",
          "name": "stdout",
          "text": [
            "Most frequent value: 2\n",
            "Number of times it occurred: 9\n"
          ]
        }
      ]
    },
    {
      "cell_type": "markdown",
      "source": [
        "**Write a program that takes a NumPy array representing a dataset with a column of dates and create a new column extracting the month of each date.**\n",
        "\n",
        "np.array([\n",
        "\n",
        "('2024-01-15', 10, 100),\n",
        "\n",
        "('2024-02-28', 15, 150),\n",
        "\n",
        "('2024-03-10', 20, 200),\n",
        "\n",
        "('2024-04-22', 25, 250),\n",
        "\n",
        "('2024-05-05', 30, 300),\n",
        "\n",
        "('2024-06-18', 35, 350),\n",
        "\n",
        "('2024-07-30', 40, 400),\n",
        "\n",
        "('2024-08-12', 45, 450),\n",
        "\n",
        "('2024-09-25', 50, 500),\n",
        "\n",
        "('2024-10-07', 55, 550)\n",
        "]"
      ],
      "metadata": {
        "id": "AQplSOxQMB9C"
      }
    },
    {
      "cell_type": "code",
      "source": [
        "import numpy as np\n",
        "\n",
        "data = np.array([\n",
        "    ('2024-01-15', 10, 100),\n",
        "    ('2024-02-28', 15, 150),\n",
        "    ('2024-03-10', 20, 200),\n",
        "    ('2024-04-22', 25, 250),\n",
        "    ('2024-05-05', 30, 300),\n",
        "    ('2024-06-18', 35, 350),\n",
        "    ('2024-07-30', 40, 400),\n",
        "    ('2024-08-12', 45, 450),\n",
        "    ('2024-09-25', 50, 500),\n",
        "    ('2024-10-07', 55, 550)\n",
        "])\n",
        "\n",
        "months = [int(date.split('-')[1]) for date in data[:, 0]]\n",
        "new_data = np.column_stack((data, months))\n",
        "\n",
        "print(new_data)"
      ],
      "metadata": {
        "colab": {
          "base_uri": "https://localhost:8080/"
        },
        "id": "pEt5tGa5SnGe",
        "outputId": "8eaea14a-a17c-463b-9998-24eadd6535ad"
      },
      "execution_count": 9,
      "outputs": [
        {
          "output_type": "stream",
          "name": "stdout",
          "text": [
            "[['2024-01-15' '10' '100' '1']\n",
            " ['2024-02-28' '15' '150' '2']\n",
            " ['2024-03-10' '20' '200' '3']\n",
            " ['2024-04-22' '25' '250' '4']\n",
            " ['2024-05-05' '30' '300' '5']\n",
            " ['2024-06-18' '35' '350' '6']\n",
            " ['2024-07-30' '40' '400' '7']\n",
            " ['2024-08-12' '45' '450' '8']\n",
            " ['2024-09-25' '50' '500' '9']\n",
            " ['2024-10-07' '55' '550' '10']]\n"
          ]
        }
      ]
    },
    {
      "cell_type": "markdown",
      "source": [
        "**Given a NumPy array representing a dataset with missing values, write a program to replace all the missing values (NaNs) with the mean of the respective column.**\n",
        "\n",
        "[ [ 1. 2. nan 4. 5.],\n",
        "\n",
        "[ 6. nan 8. 9. 10.],\n",
        "\n",
        "[11. 12. 13. nan 15.],\n",
        "\n",
        "[16. 17. nan 19. 20.],\n",
        "\n",
        "[nan 22. 23. 24. 25.] ]**"
      ],
      "metadata": {
        "id": "zQ0-BAlKR5s9"
      }
    },
    {
      "cell_type": "code",
      "source": [
        "import pandas as pd\n",
        "\n",
        "data = pd.DataFrame([\n",
        "    [1., 2., np.nan, 4., 5.],\n",
        "    [6., np.nan, 8., 9., 10.],\n",
        "    [11., 12., 13., np.nan, 15.],\n",
        "    [16., 17., np.nan, 19., 20.],\n",
        "    [np.nan, 22., 23., 24., 25.]\n",
        "])\n",
        "\n",
        "data = data.fillna(data.mean())  # Replace NaNs with column means\n",
        "\n",
        "print(data)"
      ],
      "metadata": {
        "colab": {
          "base_uri": "https://localhost:8080/"
        },
        "id": "YNmKNVEPMQf0",
        "outputId": "57acda28-08f9-4359-9dd3-c22d836dc9c1"
      },
      "execution_count": 7,
      "outputs": [
        {
          "output_type": "stream",
          "name": "stdout",
          "text": [
            "      0      1          2     3     4\n",
            "0   1.0   2.00  14.666667   4.0   5.0\n",
            "1   6.0  13.25   8.000000   9.0  10.0\n",
            "2  11.0  12.00  13.000000  14.0  15.0\n",
            "3  16.0  17.00  14.666667  19.0  20.0\n",
            "4   8.5  22.00  23.000000  24.0  25.0\n"
          ]
        }
      ]
    },
    {
      "cell_type": "markdown",
      "source": [],
      "metadata": {
        "id": "v9m63afSRV6_"
      }
    }
  ]
}