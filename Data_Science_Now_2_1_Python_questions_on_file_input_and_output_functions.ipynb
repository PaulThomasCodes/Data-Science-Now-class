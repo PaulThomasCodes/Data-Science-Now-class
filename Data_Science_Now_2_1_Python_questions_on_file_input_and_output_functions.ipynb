{
  "nbformat": 4,
  "nbformat_minor": 0,
  "metadata": {
    "colab": {
      "provenance": []
    },
    "kernelspec": {
      "name": "python3",
      "display_name": "Python 3"
    },
    "language_info": {
      "name": "python"
    }
  },
  "cells": [
    {
      "cell_type": "markdown",
      "source": [
        "**Define a function named calculate_median that takes a list of numbers as input and returns the median of those numbers.**"
      ],
      "metadata": {
        "id": "O-UNBK7m0QRl"
      }
    },
    {
      "cell_type": "code",
      "source": [
        "# faster way\n",
        "\n",
        "import statistics\n",
        "\n",
        "numbers = [2, 11, 39, 4, 67, 48, 1, 8]\n",
        "median = statistics.median(numbers)\n",
        "print(median)"
      ],
      "metadata": {
        "colab": {
          "base_uri": "https://localhost:8080/"
        },
        "id": "k6lHwJTQYWbw",
        "outputId": "cb04248f-2a04-49c6-bcd3-393928baa138"
      },
      "execution_count": 1,
      "outputs": [
        {
          "output_type": "stream",
          "name": "stdout",
          "text": [
            "9.5\n"
          ]
        }
      ]
    },
    {
      "cell_type": "code",
      "source": [
        "# Logical way\n",
        "\n",
        "#sort the number\n",
        "numbers = [2, 11, 39, 4, 67, 48, 1, 8] # Re-initialize numbers as it was overwritten in the previous cell\n",
        "numbers.sort()\n",
        "\n",
        "#calculate the middle\n",
        "length = len(numbers) # Use a different variable name to store the length\n",
        "middle = length // 2\n",
        "\n",
        "# find the median\n",
        "if length % 2 == 0:\n",
        "    median = (numbers[middle-1] + numbers[middle]) / 2 # Access the correct elements for even length lists\n",
        "else:\n",
        "    median = numbers[middle]\n",
        "\n",
        "print(median)"
      ],
      "metadata": {
        "colab": {
          "base_uri": "https://localhost:8080/"
        },
        "id": "skWWwv-qcluO",
        "outputId": "64439082-4c73-4424-dbba-accf3a982c19"
      },
      "execution_count": 2,
      "outputs": [
        {
          "output_type": "stream",
          "name": "stdout",
          "text": [
            "9.5\n"
          ]
        }
      ]
    },
    {
      "cell_type": "markdown",
      "source": [
        "**Read a text file named \"text.txt\" containing the following text. Count the occurrences of each word and store them in a dictionary.**"
      ],
      "metadata": {
        "id": "vGAD_3Tq0Ilr"
      }
    },
    {
      "cell_type": "code",
      "source": [
        "# load and read the txt file\n",
        "pd = open(\"text.txt\", \"r\") # open file in \"r\" reading mode\n",
        "pd.read()"
      ],
      "metadata": {
        "id": "y4DWUKf2fiq0",
        "colab": {
          "base_uri": "https://localhost:8080/",
          "height": 54
        },
        "outputId": "7227b68c-cbf3-41ba-fe82-c68245323ee6"
      },
      "execution_count": 21,
      "outputs": [
        {
          "output_type": "execute_result",
          "data": {
            "text/plain": [
              "'Text: apple banana apple orange mango mango grape grape peach pear peach pear kiwi kiwi pineapple pineapple strawberry strawberry blueberry blueberry watermelon watermelon lemon lemon lime\"'"
            ],
            "application/vnd.google.colaboratory.intrinsic+json": {
              "type": "string"
            }
          },
          "metadata": {},
          "execution_count": 21
        }
      ]
    },
    {
      "cell_type": "code",
      "source": [
        "# Create a dictionary called 'word_counts' to store number of word occurences\n",
        "word_counts = {}\n",
        "\n",
        "# Go through each word in the 'words' list\n",
        "for word in words:\n",
        "    # If the word is already a key in the 'word_counts' dictionary, add its count by 1\n",
        "    if word in word_counts:\n",
        "        word_counts[word] += 1\n",
        "    # if not, add the word as a key to the dictionary with a count of 1\n",
        "    else:\n",
        "        word_counts[word] = 1\n",
        "\n",
        "# go through the key-value pairs (word and count) in the 'word_counts' dictionary\n",
        "for word, count in word_counts.items():\n",
        "    # Print each word and its corresponding count in the format \"word: count\"\n",
        "    print(f\"{word}: {count}\")"
      ],
      "metadata": {
        "colab": {
          "base_uri": "https://localhost:8080/"
        },
        "id": "zk1djPmWwhmf",
        "outputId": "323e9be6-5173-476e-f948-da6236fbcc85"
      },
      "execution_count": 23,
      "outputs": [
        {
          "output_type": "stream",
          "name": "stdout",
          "text": [
            "text:: 1\n",
            "apple: 2\n",
            "banana: 1\n",
            "orange: 1\n",
            "mango: 2\n",
            "grape: 2\n",
            "peach: 2\n",
            "pear: 2\n",
            "kiwi: 2\n",
            "pineapple: 2\n",
            "strawberry: 2\n",
            "blueberry: 2\n",
            "watermelon: 2\n",
            "lemon: 2\n",
            "lime\": 1\n"
          ]
        }
      ]
    },
    {
      "cell_type": "markdown",
      "source": [
        "**Create a .txt file and write some content into it. Read this content from '.txt' file and write it into another file named 'copy.txt' using a file method and a loop.**"
      ],
      "metadata": {
        "id": "lLaIj97pyypT"
      }
    },
    {
      "cell_type": "code",
      "source": [
        "# Open the input and output files in read and write modes, respectively\n",
        "with open(\"transportation.txt\", \"r\") as input_file, open(\"transportation_copy.txt\", \"w\") as output_file:\n",
        "\n",
        "    # Iterate through each line in the input file\n",
        "    for line in input_file:\n",
        "\n",
        "        # Write the current line to the output file using the 'write' method\n",
        "        output_file.write(line)\n",
        "\n",
        "        # Print the current line to the console\n",
        "        print(line, end=\"\")  # end=\"\" prevents extra newline"
      ],
      "metadata": {
        "colab": {
          "base_uri": "https://localhost:8080/"
        },
        "id": "QeuzHQM_zqAu",
        "outputId": "81af1a11-f9f3-4a59-896d-4cd2540dea91"
      },
      "execution_count": 18,
      "outputs": [
        {
          "output_type": "stream",
          "name": "stdout",
          "text": [
            "cars, bikes, buses, trucks, motorcycle, planes, trains"
          ]
        }
      ]
    }
  ]
}